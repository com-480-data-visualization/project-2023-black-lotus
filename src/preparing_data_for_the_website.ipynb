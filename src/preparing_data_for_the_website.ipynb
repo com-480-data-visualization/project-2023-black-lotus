{
 "cells": [
  {
   "cell_type": "code",
   "execution_count": 1,
   "id": "e2305c3f",
   "metadata": {},
   "outputs": [],
   "source": [
    "import pandas as pd\n",
    "import numpy as np"
   ]
  },
  {
   "cell_type": "code",
   "execution_count": 2,
   "id": "7c33d766",
   "metadata": {},
   "outputs": [],
   "source": [
    "preprocessed_data = pd.read_pickle('../data/datasets/preprocessed_data.pkl')"
   ]
  },
  {
   "cell_type": "code",
   "execution_count": 3,
   "id": "65529383",
   "metadata": {},
   "outputs": [],
   "source": [
    "# mapping nan values to empty lists\n",
    "preprocessed_data['Flight.phase'] = preprocessed_data['Flight.phase'].apply(lambda x: [] if x!=x else x)"
   ]
  },
  {
   "cell_type": "markdown",
   "id": "bcffb4c6",
   "metadata": {},
   "source": [
    "## Removing incorrect latitude and longitude data"
   ]
  },
  {
   "cell_type": "code",
   "execution_count": 4,
   "id": "a34e8512",
   "metadata": {},
   "outputs": [],
   "source": [
    "all_data = preprocessed_data[(preprocessed_data.state == preprocessed_data.State) | (preprocessed_data.state.isna())].copy()"
   ]
  },
  {
   "cell_type": "code",
   "execution_count": 5,
   "id": "2c9054fe",
   "metadata": {},
   "outputs": [],
   "source": [
    "all_data.drop(columns=['Latitude', 'Longitude', 'state', 'Year', 'Month', 'Weekday', 'Broad.phase.of.flight'], inplace=True)\n",
    "all_data.rename(columns={'lat':'Latitude', 'lon':'Longitude'}, inplace=True)"
   ]
  },
  {
   "cell_type": "code",
   "execution_count": 6,
   "id": "b653e928",
   "metadata": {},
   "outputs": [],
   "source": [
    "all_data.to_json('../data/datasets/final_all.json', orient='records', indent=2)"
   ]
  },
  {
   "cell_type": "markdown",
   "id": "2cf13dd1",
   "metadata": {},
   "source": [
    "## Only data with correct latitude and longitude"
   ]
  },
  {
   "cell_type": "code",
   "execution_count": 7,
   "id": "e86a3bf8",
   "metadata": {},
   "outputs": [],
   "source": [
    "# selecting only the data with lat and lon and in proper state\n",
    "only_correct_lat_lon = preprocessed_data[~preprocessed_data.lat.isna() & ~preprocessed_data.lon.isna() & \\\n",
    "                  (preprocessed_data.state == preprocessed_data.State)].copy()"
   ]
  },
  {
   "cell_type": "code",
   "execution_count": 8,
   "id": "f4f6c2a8",
   "metadata": {},
   "outputs": [],
   "source": [
    "only_correct_lat_lon.drop(columns=['Latitude', 'Longitude', 'State', 'Year', 'Month', 'Weekday', 'Broad.phase.of.flight'], inplace=True)\n",
    "only_correct_lat_lon.rename(columns={'lat':'Latitude', 'lon':'Longitude', 'state':'State'}, inplace=True)"
   ]
  },
  {
   "cell_type": "code",
   "execution_count": 9,
   "id": "816972aa",
   "metadata": {},
   "outputs": [],
   "source": [
    "only_correct_lat_lon.to_json('../data/datasets/final_only_lat_lon.json', orient='records', indent=2)"
   ]
  },
  {
   "cell_type": "code",
   "execution_count": null,
   "id": "6b506c35",
   "metadata": {},
   "outputs": [],
   "source": []
  }
 ],
 "metadata": {
  "kernelspec": {
   "display_name": "Python 3 (ipykernel)",
   "language": "python",
   "name": "python3"
  },
  "language_info": {
   "codemirror_mode": {
    "name": "ipython",
    "version": 3
   },
   "file_extension": ".py",
   "mimetype": "text/x-python",
   "name": "python",
   "nbconvert_exporter": "python",
   "pygments_lexer": "ipython3",
   "version": "3.10.7"
  }
 },
 "nbformat": 4,
 "nbformat_minor": 5
}
